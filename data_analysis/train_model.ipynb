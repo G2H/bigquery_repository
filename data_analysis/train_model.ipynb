{
  "nbformat": 4,
  "nbformat_minor": 0,
  "metadata": {
    "colab": {
      "name": "definitions/notebook_1727104988380.ipynb",
      "cell_execution_strategy": "setup",
      "provenance": []
    },
    "kernelspec": {
      "name": "python3",
      "display_name": "Python 3"
    },
    "language_info": {
      "name": "python"
    }
  },
  "cells": [
    {
      "cell_type": "markdown",
      "source": [
        "# Define dataframe"
      ],
      "metadata": {
        "id": "JNjIYrKAhzM9"
      }
    },
    {
      "cell_type": "code",
      "source": [
        "import bigframes.pandas as bpd\n",
        "from bigframes.ml.cluster import KMeans\n",
        "\n",
        "df = bpd.read_gbq(\"dataform-dogfood-shared.mydataset.transformed_data\")\n",
        "\n",
        "df = df[[\"customer_id\",\"product_name\",\"total_revenue\",\"payment_method\",\"city\"]]"
      ],
      "metadata": {
        "id": "31i0HKbZhuKQ",
        "colab": {
          "base_uri": "https://localhost:8080/"
        },
        "executionInfo": {
          "status": "ok",
          "timestamp": 1728039928029,
          "user_tz": -60,
          "elapsed": 1050,
          "user": {
            "displayName": "",
            "userId": ""
          }
        },
        "outputId": "a735e9cc-3b7e-47c3-9f62-a4364fe23a81"
      },
      "execution_count": 3,
      "outputs": [
        {
          "output_type": "stream",
          "name": "stderr",
          "text": [
            "/usr/local/lib/python3.10/dist-packages/IPython/core/interactiveshell.py:3553: UserWarning: Reading cached table from 2024-10-04 11:05:13.131916+00:00 to avoid incompatibilies with previous reads of this table. To read the latest version, set `use_cache=False` or close the current session with Session.close() or bigframes.pandas.close_session().\n",
            "  exec(code_obj, self.user_global_ns, self.user_ns)\n"
          ]
        }
      ]
    },
    {
      "cell_type": "markdown",
      "source": [
        "# Create model"
      ],
      "metadata": {
        "id": "nIICHY7thzd2"
      }
    },
    {
      "cell_type": "code",
      "source": [
        "cluster_model = KMeans(n_clusters=4)\n",
        "cluster_model.fit(df)\n",
        "cluster_model.to_gbq(\n",
        "    \"mydataset.mymodel\",\n",
        "    replace=True,\n",
        ")"
      ],
      "metadata": {
        "id": "Yjom5uTXhz3G",
        "colab": {
          "base_uri": "https://localhost:8080/",
          "height": 280
        },
        "executionInfo": {
          "status": "error",
          "timestamp": 1728040006883,
          "user_tz": -60,
          "elapsed": 72339,
          "user": {
            "displayName": "",
            "userId": ""
          }
        },
        "outputId": "f7f10fc7-4585-4210-ef69-2f76fcdc6468"
      },
      "execution_count": 4,
      "outputs": [
        {
          "output_type": "display_data",
          "data": {
            "text/plain": [
              "<IPython.core.display.HTML object>"
            ],
            "text/html": [
              "Query job e5b635ab-7d34-4210-8d5c-f1d8950229b4 is DONE. 5.3 kB processed. <a target=\"_blank\" href=\"https://console.cloud.google.com/bigquery?project=dataform-dogfood-shared&j=bq:US:e5b635ab-7d34-4210-8d5c-f1d8950229b4&page=queryresults\">Open Job</a>"
            ]
          },
          "metadata": {}
        },
        {
          "output_type": "display_data",
          "data": {
            "text/plain": [
              "<IPython.core.display.HTML object>"
            ],
            "text/html": [
              "Query job f97a4662-b141-4abf-a5ad-8b7a3a38de00 is DONE. 4.5 kB processed. <a target=\"_blank\" href=\"https://console.cloud.google.com/bigquery?project=dataform-dogfood-shared&j=bq:US:f97a4662-b141-4abf-a5ad-8b7a3a38de00&page=queryresults\">Open Job</a>"
            ]
          },
          "metadata": {}
        },
        {
          "output_type": "error",
          "ename": "NameError",
          "evalue": "name 'mymodel' is not defined",
          "traceback": [
            "\u001b[0;31m---------------------------------------------------------------------------\u001b[0m",
            "\u001b[0;31mNameError\u001b[0m                                 Traceback (most recent call last)",
            "\u001b[0;32m<ipython-input-4-8728625c1f7f>\u001b[0m in \u001b[0;36m<cell line: 3>\u001b[0;34m()\u001b[0m\n\u001b[1;32m      2\u001b[0m \u001b[0mcluster_model\u001b[0m\u001b[0;34m.\u001b[0m\u001b[0mfit\u001b[0m\u001b[0;34m(\u001b[0m\u001b[0mdf\u001b[0m\u001b[0;34m)\u001b[0m\u001b[0;34m\u001b[0m\u001b[0;34m\u001b[0m\u001b[0m\n\u001b[1;32m      3\u001b[0m cluster_model.to_gbq(\n\u001b[0;32m----> 4\u001b[0;31m     \u001b[0mmymodel\u001b[0m\u001b[0;34m,\u001b[0m\u001b[0;34m\u001b[0m\u001b[0;34m\u001b[0m\u001b[0m\n\u001b[0m\u001b[1;32m      5\u001b[0m     \u001b[0mreplace\u001b[0m\u001b[0;34m=\u001b[0m\u001b[0;32mTrue\u001b[0m\u001b[0;34m,\u001b[0m\u001b[0;34m\u001b[0m\u001b[0;34m\u001b[0m\u001b[0m\n\u001b[1;32m      6\u001b[0m )\n",
            "\u001b[0;31mNameError\u001b[0m: name 'mymodel' is not defined"
          ]
        }
      ]
    },
    {
      "cell_type": "markdown",
      "source": [],
      "metadata": {
        "id": "bekY6pjUi_mn"
      }
    },
    {
      "cell_type": "markdown",
      "source": [],
      "metadata": {
        "id": "OGtAI46SjAFH"
      }
    }
  ]
}