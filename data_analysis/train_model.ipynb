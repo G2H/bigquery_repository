{
  "nbformat": 4,
  "nbformat_minor": 0,
  "metadata": {
    "colab": {
      "name": "data_analysis/train_model.ipynb",
      "cell_execution_strategy": "setup",
      "provenance": []
    },
    "kernelspec": {
      "name": "python3",
      "display_name": "Python 3"
    },
    "language_info": {
      "name": "python"
    }
  },
  "cells": [
    {
      "cell_type": "markdown",
      "source": [
        "# Define dataframe"
      ],
      "metadata": {
        "id": "JNjIYrKAhzM9"
      }
    },
    {
      "cell_type": "code",
      "source": [
        "import bigframes.pandas as bpd\n",
        "from bigframes.ml.cluster import KMeans\n",
        "\n",
        "df = bpd.read_gbq(\"dataform-dogfood-shared.mydataset.transformed_data\")\n",
        "\n",
        "df = df[[\"customer_id\",\"product_name\",\"total_revenue\",\"payment_method\",\"city\"]]"
      ],
      "metadata": {
        "id": "31i0HKbZhuKQ",
        "colab": {
          "base_uri": "https://localhost:8080/",
          "height": 34
        },
        "executionInfo": {
          "status": "ok",
          "timestamp": 1741258584050,
          "user_tz": 0,
          "elapsed": 8088,
          "user": {
            "displayName": "",
            "userId": ""
          }
        },
        "outputId": "ca6ce691-c614-45ff-8e03-7684f7424595"
      },
      "execution_count": 1,
      "outputs": [
        {
          "output_type": "display_data",
          "data": {
            "text/plain": [
              "<IPython.core.display.HTML object>"
            ],
            "text/html": [
              "Query job 1cea9024-f2d8-4047-ac66-26fc459145ec is DONE. 0 Bytes processed. <a target=\"_blank\" href=\"https://console.cloud.google.com/bigquery?project=dataform-dogfood-shared&j=bq:US:1cea9024-f2d8-4047-ac66-26fc459145ec&page=queryresults\">Open Job</a>"
            ]
          },
          "metadata": {}
        }
      ]
    },
    {
      "cell_type": "markdown",
      "source": [
        "# Create model"
      ],
      "metadata": {
        "id": "nIICHY7thzd2"
      }
    },
    {
      "cell_type": "code",
      "source": [
        "cluster_model = KMeans(n_clusters=4)\n",
        "cluster_model.fit(df)\n",
        "cluster_model.to_gbq(\n",
        "    \"mydataset.mymodel\",\n",
        "    replace=True,\n",
        ")"
      ],
      "metadata": {
        "id": "Yjom5uTXhz3G",
        "colab": {
          "base_uri": "https://localhost:8080/",
          "height": 0
        },
        "executionInfo": {
          "status": "ok",
          "timestamp": 1741258649169,
          "user_tz": 0,
          "elapsed": 65123,
          "user": {
            "displayName": "",
            "userId": ""
          }
        },
        "outputId": "b3c7e498-e3a7-40fb-b5be-0db4f4e0ac4f"
      },
      "execution_count": 2,
      "outputs": [
        {
          "output_type": "display_data",
          "data": {
            "text/plain": [
              "<IPython.core.display.HTML object>"
            ],
            "text/html": [
              "Query job 05b40685-f5a6-4a51-bf85-1668fb44414f is DONE. 5.3 kB processed. <a target=\"_blank\" href=\"https://console.cloud.google.com/bigquery?project=dataform-dogfood-shared&j=bq:US:05b40685-f5a6-4a51-bf85-1668fb44414f&page=queryresults\">Open Job</a>"
            ]
          },
          "metadata": {}
        },
        {
          "output_type": "display_data",
          "data": {
            "text/plain": [
              "<IPython.core.display.HTML object>"
            ],
            "text/html": [
              "Query job 9708ab1c-1366-47b4-b3d3-4b5a71f44c2b is DONE. 4.5 kB processed. <a target=\"_blank\" href=\"https://console.cloud.google.com/bigquery?project=dataform-dogfood-shared&j=bq:US:9708ab1c-1366-47b4-b3d3-4b5a71f44c2b&page=queryresults\">Open Job</a>"
            ]
          },
          "metadata": {}
        },
        {
          "output_type": "display_data",
          "data": {
            "text/plain": [
              "<IPython.core.display.HTML object>"
            ],
            "text/html": [
              "Copy job fb05e917-e035-4309-bb03-680ad7370f8d is DONE. <a target=\"_blank\" href=\"https://console.cloud.google.com/bigquery?project=dataform-dogfood-shared&j=bq:US:fb05e917-e035-4309-bb03-680ad7370f8d&page=queryresults\">Open Job</a>"
            ]
          },
          "metadata": {}
        },
        {
          "output_type": "execute_result",
          "data": {
            "text/plain": [
              "KMeans(distance_type='EUCLIDEAN', init='KMEANS_PLUS_PLUS', n_clusters=4)"
            ]
          },
          "metadata": {},
          "execution_count": 2
        }
      ]
    },
    {
      "cell_type": "markdown",
      "source": [],
      "metadata": {
        "id": "bekY6pjUi_mn"
      }
    },
    {
      "cell_type": "markdown",
      "source": [],
      "metadata": {
        "id": "OGtAI46SjAFH"
      }
    }
  ]
}