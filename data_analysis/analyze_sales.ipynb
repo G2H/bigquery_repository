{
 "cells": [
  {
   "cell_type": "code",
   "execution_count": null,
   "metadata": {},
   "outputs": [],
   "source": [
    "import pandas as pd\n",
    "from google.cloud import bigquery\n",
    "import matplotlib.pyplot as plt\n",
    "\n",
    "client = bigquery.Client()\n",
    "\n",
    "query = \\"\n",
    "SELECT\n",
    "  product_id,\n",
    "  sale_year,\n",
    "  sale_month,\n",
    "  total_sales\n",
    "FROM\n",
    "  \n",
    "ORDER BY\n",
    "  sale_year,\n",
    "  sale_month;\n",
    "\\"\n",
    "\n",
    "df = client.query(query).to_dataframe()\n",
    "print(df.head())"
   ]
  }
 ],
 "metadata": {
  "kernelspec": {
   "display_name": "Python 3",
   "language": "python",
   "name": "python3"
  },
  "language_info": {
   "codemirror_mode": {
    "name": "ipython",
    "version": 3
   },
   "file_extension": ".py",
   "mimetype": "text/x-python",
   "name": "python",
   "nbconvert_exporter": "python",
   "pygments_lexer": "ipython3",
   "version": "3.8"
  }
 },
 "nbformat": 4,
 "nbformat_minor": 5
}
